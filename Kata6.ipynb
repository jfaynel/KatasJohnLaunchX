{
 "cells": [
  {
   "cell_type": "markdown",
   "metadata": {},
   "source": [
    "## Kata 6"
   ]
  },
  {
   "cell_type": "markdown",
   "metadata": {},
   "source": [
    "## Ejercicio 1\n",
    "Las listas permiten almacenar varios valores en una sola variable. Comenzarás un proyecto sobre información planetaria creando una lista de planetas.\n",
    "\n",
    "TIP Dedica unos minutos para tratar de encontrar una solución. Luego desplázate hacia abajo hasta la parte inferior para ver si has logrado compilar el programa de acuerdo con las especificaciones\n",
    "\n",
    "En primer lugar, crea una variable denominada planets. Agrega los ocho planetas (sin Plutón) a la lista. A continuación, muestra el número de planetas."
   ]
  },
  {
   "cell_type": "code",
   "execution_count": null,
   "metadata": {},
   "outputs": [],
   "source": [
    "# Lista de planetas\n",
    "planets = ['Mercury', 'Venus', 'Earth', 'Mars', 'Jupiter', 'Saturn', 'Uranus', 'Neptune']\n",
    "print(planets)"
   ]
  },
  {
   "cell_type": "code",
   "execution_count": null,
   "metadata": {},
   "outputs": [],
   "source": [
    "planets.append('Pluto')\n",
    "print(planets)"
   ]
  },
  {
   "cell_type": "markdown",
   "metadata": {},
   "source": [
    "## Ejercicio 2\n",
    "\n",
    "Usar slices para recuperar partes de una lista\n",
    "\n",
    "Es posible que debas trabajar con diferentes secciones de una lista. En nuestro ejemplo, queremos mostrar planetas más cerca y más lejos del sol de un planeta que el usuario ingresa por teclado.\n",
    "\n",
    "Comienza agregando el código para crear una lista con los planetas."
   ]
  },
  {
   "cell_type": "code",
   "execution_count": 1,
   "metadata": {},
   "outputs": [
    {
     "name": "stdout",
     "output_type": "stream",
     "text": [
      "['Mercury', 'Venus', 'Earth', 'Mars', 'Jupiter', 'Saturn', 'Uranus', 'Neptune']\n"
     ]
    }
   ],
   "source": [
    "# Lista de planetas\n",
    "planets = ['Mercury', 'Venus', 'Earth', 'Mars', 'Jupiter', 'Saturn', 'Uranus', 'Neptune']\n",
    "print(planets)"
   ]
  },
  {
   "cell_type": "code",
   "execution_count": 3,
   "metadata": {},
   "outputs": [
    {
     "name": "stdout",
     "output_type": "stream",
     "text": [
      "Planets closer to the sun than Earth\n",
      "['Mercury', 'Venus']\n",
      "Planets further to the sun than Earth\n",
      "['Mars', 'Jupiter', 'Saturn', 'Uranus', 'Neptune']\n"
     ]
    }
   ],
   "source": [
    "# Solicitar al usuario un planeta\n",
    "planeta_usuario = input('Please write down a planet name (make sure the first letter is on upper case)')\n",
    "# Buscamos el planeta en la lista\n",
    "\n",
    "planets_index = planets.index(planeta_usuario)\n",
    "# Mostrar planetas mas cercanos al sol que el seleccionado por el usuario\n",
    "print('Planets closer to the sun than ' + planeta_usuario)\n",
    "print(planets[0:planets_index])\n",
    "print('Planets further to the sun than ' + planeta_usuario)\n",
    "print(planets[planets_index + 1:8])\n",
    "\n"
   ]
  }
 ],
 "metadata": {
  "interpreter": {
   "hash": "b280c62e1d2aeb013e4b4dd42845e3107760be1c20d0a6b4aa5d6e0f8071ffc2"
  },
  "kernelspec": {
   "display_name": "Python 3.10.2 64-bit (windows store)",
   "language": "python",
   "name": "python3"
  },
  "language_info": {
   "codemirror_mode": {
    "name": "ipython",
    "version": 3
   },
   "file_extension": ".py",
   "mimetype": "text/x-python",
   "name": "python",
   "nbconvert_exporter": "python",
   "pygments_lexer": "ipython3",
   "version": "3.10.2"
  },
  "orig_nbformat": 4
 },
 "nbformat": 4,
 "nbformat_minor": 2
}
